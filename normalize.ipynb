{
 "cells": [
  {
   "cell_type": "code",
   "execution_count": 58,
   "id": "a476d97f-01fa-424f-8472-738a4f3f78f6",
   "metadata": {},
   "outputs": [],
   "source": [
    "from lz4 import block\n",
    "import sys\n",
    "import ast\n",
    "import pandas as pd\n",
    "import polars as pl\n",
    "from flatten_json import flatten\n",
    "import re"
   ]
  },
  {
   "cell_type": "code",
   "execution_count": 2,
   "id": "02d844b4-711a-44a6-ac88-228dbb442aab",
   "metadata": {},
   "outputs": [],
   "source": [
    "# decompresse lz4 to byte stream\n",
    "def lz4_to_binary(filepath):\n",
    "    bytestream = open(filepath, \"rb\")\n",
    "    bytestream.read(8)  # skip past the b\"mozLz40\\0\" header\n",
    "    valid_bytes = bytestream.read()\n",
    "    binary = block.decompress(valid_bytes)\n",
    "    return binary"
   ]
  },
  {
   "cell_type": "code",
   "execution_count": 31,
   "id": "b3abfccb-e67d-422f-8748-7df0d3fcbe77",
   "metadata": {},
   "outputs": [],
   "source": [
    "file = './bookmarks.jsonlz4'\n",
    "binary = lz4_to_binary(file)\n",
    "json = ast.literal_eval(binary.decode(\"utf-8\"))"
   ]
  },
  {
   "cell_type": "code",
   "execution_count": 32,
   "id": "c1ef39da-8c53-4fa6-b3da-bbad1e7b4d69",
   "metadata": {},
   "outputs": [
    {
     "data": {
      "text/plain": [
       "dict"
      ]
     },
     "execution_count": 32,
     "metadata": {},
     "output_type": "execute_result"
    }
   ],
   "source": [
    "type(json)"
   ]
  },
  {
   "cell_type": "code",
   "execution_count": 65,
   "id": "43e0d175-64e9-47b4-889a-06869b9e41d1",
   "metadata": {
    "tags": []
   },
   "outputs": [],
   "source": [
    "data = pd.json_normalize(\n",
    "    json, \n",
    "    record_path=['children']\n",
    ")\n",
    "# , \n",
    "#     meta=['class', 'room', ['info', 'teachers', 'math']],\n",
    "#     errors='ignore'"
   ]
  },
  {
   "cell_type": "code",
   "execution_count": 66,
   "id": "aa1aa733-fe57-4ff9-8a09-407a8fc69a4d",
   "metadata": {},
   "outputs": [
    {
     "data": {
      "text/html": [
       "<div>\n",
       "<style scoped>\n",
       "    .dataframe tbody tr th:only-of-type {\n",
       "        vertical-align: middle;\n",
       "    }\n",
       "\n",
       "    .dataframe tbody tr th {\n",
       "        vertical-align: top;\n",
       "    }\n",
       "\n",
       "    .dataframe thead th {\n",
       "        text-align: right;\n",
       "    }\n",
       "</style>\n",
       "<table border=\"1\" class=\"dataframe\">\n",
       "  <thead>\n",
       "    <tr style=\"text-align: right;\">\n",
       "      <th></th>\n",
       "      <th>guid</th>\n",
       "      <th>title</th>\n",
       "      <th>index</th>\n",
       "      <th>dateAdded</th>\n",
       "      <th>lastModified</th>\n",
       "      <th>id</th>\n",
       "      <th>typeCode</th>\n",
       "      <th>type</th>\n",
       "      <th>root</th>\n",
       "      <th>children</th>\n",
       "    </tr>\n",
       "  </thead>\n",
       "  <tbody>\n",
       "    <tr>\n",
       "      <th>0</th>\n",
       "      <td>menu________</td>\n",
       "      <td>menu</td>\n",
       "      <td>0</td>\n",
       "      <td>1530066880767000</td>\n",
       "      <td>1603076605369000</td>\n",
       "      <td>2</td>\n",
       "      <td>2</td>\n",
       "      <td>text/x-moz-place-container</td>\n",
       "      <td>bookmarksMenuFolder</td>\n",
       "      <td>[{'guid': 'u32Lc0awE474', 'title': 'Recent Tag...</td>\n",
       "    </tr>\n",
       "    <tr>\n",
       "      <th>1</th>\n",
       "      <td>toolbar_____</td>\n",
       "      <td>toolbar</td>\n",
       "      <td>1</td>\n",
       "      <td>1530066880767000</td>\n",
       "      <td>1648246889622000</td>\n",
       "      <td>3</td>\n",
       "      <td>2</td>\n",
       "      <td>text/x-moz-place-container</td>\n",
       "      <td>toolbarFolder</td>\n",
       "      <td>[{'guid': 'f_vRq0TY8Fc1', 'title': 'Most Visit...</td>\n",
       "    </tr>\n",
       "    <tr>\n",
       "      <th>2</th>\n",
       "      <td>unfiled_____</td>\n",
       "      <td>unfiled</td>\n",
       "      <td>3</td>\n",
       "      <td>1530066880767000</td>\n",
       "      <td>1648245293660000</td>\n",
       "      <td>5</td>\n",
       "      <td>2</td>\n",
       "      <td>text/x-moz-place-container</td>\n",
       "      <td>unfiledBookmarksFolder</td>\n",
       "      <td>[{'guid': 'y_PUzyeBeUrp', 'title': 'boilerplat...</td>\n",
       "    </tr>\n",
       "    <tr>\n",
       "      <th>3</th>\n",
       "      <td>mobile______</td>\n",
       "      <td>mobile</td>\n",
       "      <td>4</td>\n",
       "      <td>1530066880776000</td>\n",
       "      <td>1584131412530000</td>\n",
       "      <td>6</td>\n",
       "      <td>2</td>\n",
       "      <td>text/x-moz-place-container</td>\n",
       "      <td>mobileFolder</td>\n",
       "      <td>NaN</td>\n",
       "    </tr>\n",
       "  </tbody>\n",
       "</table>\n",
       "</div>"
      ],
      "text/plain": [
       "           guid    title  index         dateAdded      lastModified  id  \\\n",
       "0  menu________     menu      0  1530066880767000  1603076605369000   2   \n",
       "1  toolbar_____  toolbar      1  1530066880767000  1648246889622000   3   \n",
       "2  unfiled_____  unfiled      3  1530066880767000  1648245293660000   5   \n",
       "3  mobile______   mobile      4  1530066880776000  1584131412530000   6   \n",
       "\n",
       "   typeCode                        type                    root  \\\n",
       "0         2  text/x-moz-place-container     bookmarksMenuFolder   \n",
       "1         2  text/x-moz-place-container           toolbarFolder   \n",
       "2         2  text/x-moz-place-container  unfiledBookmarksFolder   \n",
       "3         2  text/x-moz-place-container            mobileFolder   \n",
       "\n",
       "                                            children  \n",
       "0  [{'guid': 'u32Lc0awE474', 'title': 'Recent Tag...  \n",
       "1  [{'guid': 'f_vRq0TY8Fc1', 'title': 'Most Visit...  \n",
       "2  [{'guid': 'y_PUzyeBeUrp', 'title': 'boilerplat...  \n",
       "3                                                NaN  "
      ]
     },
     "execution_count": 66,
     "metadata": {},
     "output_type": "execute_result"
    }
   ],
   "source": [
    "data"
   ]
  },
  {
   "cell_type": "code",
   "execution_count": 37,
   "id": "f246a1fd-ec06-4e48-8288-b572283d4229",
   "metadata": {},
   "outputs": [],
   "source": [
    "flat = flatten(json, separator='.')"
   ]
  },
  {
   "cell_type": "code",
   "execution_count": 60,
   "id": "6423d316-5e69-4ecb-a297-afbbcc54e1b4",
   "metadata": {},
   "outputs": [
    {
     "data": {
      "text/plain": [
       "11527"
      ]
     },
     "execution_count": 60,
     "metadata": {},
     "output_type": "execute_result"
    }
   ],
   "source": [
    "r = re.compile(\"^.*\\.uri$\")\n",
    "uris = list(filter(r.match, list(flat.keys())))\n",
    "len(uris)"
   ]
  },
  {
   "cell_type": "code",
   "execution_count": 69,
   "id": "7a350f9e-567e-41f0-bc5a-7150fad32d02",
   "metadata": {},
   "outputs": [
    {
     "data": {
      "text/plain": [
       "24422"
      ]
     },
     "execution_count": 69,
     "metadata": {},
     "output_type": "execute_result"
    }
   ],
   "source": [
    "r = re.compile(\"^.*\\.id$\")\n",
    "ids = list(filter(r.match, list(flat.keys())))\n",
    "len(ids)"
   ]
  },
  {
   "cell_type": "code",
   "execution_count": 112,
   "id": "ee4749fb-be5b-4403-96af-2904cde28002",
   "metadata": {},
   "outputs": [
    {
     "data": {
      "text/plain": [
       "212633"
      ]
     },
     "execution_count": 112,
     "metadata": {},
     "output_type": "execute_result"
    }
   ],
   "source": [
    "r = re.compile('^.*\\.{1}[a-z|A-Z]*$')\n",
    "endings = list(filter(r.match, list(flat.keys())))\n",
    "len(endings)"
   ]
  },
  {
   "cell_type": "code",
   "execution_count": 114,
   "id": "a3589a8d-a8fa-4a28-ba07-a9c296e45463",
   "metadata": {},
   "outputs": [
    {
     "data": {
      "text/plain": [
       "212633"
      ]
     },
     "execution_count": 114,
     "metadata": {},
     "output_type": "execute_result"
    }
   ],
   "source": [
    "ends = [re.search('\\.{1}[a-z|A-Z]*$', k)[0] for k in endings]\n",
    "len(ends)"
   ]
  },
  {
   "cell_type": "code",
   "execution_count": 115,
   "id": "35ce5142-60f3-452a-a37a-46368866f186",
   "metadata": {},
   "outputs": [
    {
     "data": {
      "text/plain": [
       "{'.charset',\n",
       " '.dateAdded',\n",
       " '.guid',\n",
       " '.iconuri',\n",
       " '.id',\n",
       " '.index',\n",
       " '.lastModified',\n",
       " '.root',\n",
       " '.title',\n",
       " '.type',\n",
       " '.typeCode',\n",
       " '.uri'}"
      ]
     },
     "execution_count": 115,
     "metadata": {},
     "output_type": "execute_result"
    }
   ],
   "source": [
    "set(ends)"
   ]
  },
  {
   "cell_type": "code",
   "execution_count": 116,
   "id": "d8cd78c7-656b-4ac2-a128-3f70e30332be",
   "metadata": {},
   "outputs": [],
   "source": [
    "# ^ for each uri - grab a record for all titles in hiearchy\n",
    "# need logic to go up or down the tree ..."
   ]
  },
  {
   "cell_type": "code",
   "execution_count": 107,
   "id": "9400532d-2c72-4bb5-8909-e8baaeaed924",
   "metadata": {},
   "outputs": [
    {
     "data": {
      "text/plain": [
       "'.guid'"
      ]
     },
     "execution_count": 107,
     "metadata": {},
     "output_type": "execute_result"
    }
   ],
   "source": [
    "re.search('\\.{1}[a-z]*$', list(flat.keys())[9])[0]"
   ]
  },
  {
   "cell_type": "code",
   "execution_count": 68,
   "id": "9d705aec-b569-4984-8a3e-3f93a5487d5c",
   "metadata": {},
   "outputs": [
    {
     "data": {
      "text/plain": [
       "[{'guid': 'u32Lc0awE474',\n",
       "  'title': 'Recent Tags',\n",
       "  'index': 0,\n",
       "  'dateAdded': 1530066882659000,\n",
       "  'lastModified': 1595453963000000,\n",
       "  'id': 12,\n",
       "  'typeCode': 1,\n",
       "  'type': 'text/x-moz-place',\n",
       "  'uri': 'place:type=6&sort=14&maxResults=10'},\n",
       " {'guid': '6aOuabmYunkb',\n",
       "  'title': 'Work Latest',\n",
       "  'index': 1,\n",
       "  'dateAdded': 1598660067092000,\n",
       "  'lastModified': 1600455199343000,\n",
       "  'id': 17498,\n",
       "  'typeCode': 2,\n",
       "  'type': 'text/x-moz-place-container'}]"
      ]
     },
     "execution_count": 68,
     "metadata": {},
     "output_type": "execute_result"
    }
   ],
   "source": [
    "# 0 is menu    - recent tags & work latest\n",
    "# 1 is toolbar - all the bookmarks\n",
    "# 2 is unfiled - todo & boilerplate\n",
    "# 3 is mobile  - nothing ... yet (: \n",
    "data.loc[:,'children'][0]"
   ]
  },
  {
   "cell_type": "code",
   "execution_count": 15,
   "id": "b6f521c4-6472-42e4-beac-dec52754fcf6",
   "metadata": {},
   "outputs": [
    {
     "data": {
      "text/html": [
       "<div>\n",
       "<style scoped>\n",
       "    .dataframe tbody tr th:only-of-type {\n",
       "        vertical-align: middle;\n",
       "    }\n",
       "\n",
       "    .dataframe tbody tr th {\n",
       "        vertical-align: top;\n",
       "    }\n",
       "\n",
       "    .dataframe thead th {\n",
       "        text-align: right;\n",
       "    }\n",
       "</style>\n",
       "<table border=\"1\" class=\"dataframe\">\n",
       "  <thead>\n",
       "    <tr style=\"text-align: right;\">\n",
       "      <th></th>\n",
       "      <th>guid</th>\n",
       "      <th>title</th>\n",
       "      <th>index</th>\n",
       "      <th>dateAdded</th>\n",
       "      <th>lastModified</th>\n",
       "      <th>id</th>\n",
       "      <th>typeCode</th>\n",
       "      <th>type</th>\n",
       "      <th>root</th>\n",
       "      <th>children</th>\n",
       "    </tr>\n",
       "  </thead>\n",
       "  <tbody>\n",
       "    <tr>\n",
       "      <th>0</th>\n",
       "      <td>root________</td>\n",
       "      <td></td>\n",
       "      <td>0</td>\n",
       "      <td>1530066880767000</td>\n",
       "      <td>1648246889622000</td>\n",
       "      <td>1</td>\n",
       "      <td>2</td>\n",
       "      <td>text/x-moz-place-container</td>\n",
       "      <td>placesRoot</td>\n",
       "      <td>[{'guid': 'menu________', 'title': 'menu', 'in...</td>\n",
       "    </tr>\n",
       "  </tbody>\n",
       "</table>\n",
       "</div>"
      ],
      "text/plain": [
       "           guid title  index         dateAdded      lastModified  id  \\\n",
       "0  root________            0  1530066880767000  1648246889622000   1   \n",
       "\n",
       "   typeCode                        type        root  \\\n",
       "0         2  text/x-moz-place-container  placesRoot   \n",
       "\n",
       "                                            children  \n",
       "0  [{'guid': 'menu________', 'title': 'menu', 'in...  "
      ]
     },
     "execution_count": 15,
     "metadata": {},
     "output_type": "execute_result"
    }
   ],
   "source": [
    "pd.json_normalize(json)"
   ]
  },
  {
   "cell_type": "code",
   "execution_count": null,
   "id": "05ddb012-f597-4abf-a235-a23fe29d738a",
   "metadata": {},
   "outputs": [],
   "source": [
    "# does not work obviously\n",
    "d_flat = pd.DataFrame(flat)"
   ]
  },
  {
   "cell_type": "code",
   "execution_count": null,
   "id": "41909cb8-bd5a-4c1c-a0ee-b5b361243df4",
   "metadata": {},
   "outputs": [],
   "source": []
  }
 ],
 "metadata": {
  "kernelspec": {
   "display_name": "Python [conda env:ff-bmarks]",
   "language": "python",
   "name": "conda-env-ff-bmarks-py"
  },
  "language_info": {
   "codemirror_mode": {
    "name": "ipython",
    "version": 3
   },
   "file_extension": ".py",
   "mimetype": "text/x-python",
   "name": "python",
   "nbconvert_exporter": "python",
   "pygments_lexer": "ipython3",
   "version": "3.10.3"
  },
  "widgets": {
   "application/vnd.jupyter.widget-state+json": {
    "state": {},
    "version_major": 2,
    "version_minor": 0
   }
  }
 },
 "nbformat": 4,
 "nbformat_minor": 5
}
